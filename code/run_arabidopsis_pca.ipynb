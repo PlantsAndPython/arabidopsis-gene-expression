{
 "cells": [
  {
   "cell_type": "code",
   "execution_count": null,
   "metadata": {},
   "outputs": [],
   "source": [
    "import numpy as np\n",
    "import pandas as pd\n",
    "from sklearn.preprocessing import LabelEncoder, StandardScaler, scale\n",
    "from sklearn.decomposition import PCA\n",
    "import json\n",
    "import pickle\n",
    "\n",
    "import matplotlib as mpl\n",
    "import matplotlib.pyplot as plt\n",
    "from matplotlib.colors import to_hex, to_rgb"
   ]
  },
  {
   "cell_type": "code",
   "execution_count": null,
   "metadata": {},
   "outputs": [],
   "source": [
    "rnafile = \"../data/gene_FPKM_transposed_UMR75.parquet\"\n",
    "metafactor = \"TissueClean\"\n",
    "df = pd.read_parquet(rnafile)\n",
    "class_names = df[metafactor].unique().tolist()\n",
    "print(class_names)"
   ]
  },
  {
   "cell_type": "code",
   "execution_count": null,
   "metadata": {},
   "outputs": [],
   "source": [
    "data = (df.iloc[:, 14:]).astype(\"float64\")\n",
    "data = data.apply(lambda x: np.log2(x+1.0))\n",
    "# rnadf.iloc[:, 1:] = scale(rnadf.iloc[:, 1:], axis=1)\n",
    "print(f\"DataFrame shape: {df.shape}, rnaseq data shape: {data.shape}\")\n",
    "# DataFrame shape: (19415, 37349), rnaseq data shape: (19415, 37335)"
   ]
  },
  {
   "cell_type": "code",
   "execution_count": null,
   "metadata": {},
   "outputs": [],
   "source": [
    "# X = StandardScaler().fit_transform(data)\n",
    "X_pca = PCA(n_components=2).fit_transform(data)\n",
    "pcadf = pd.DataFrame({str(metafactor): df[metafactor].values,\n",
    "                        \"PC1\": X_pca[:, 0],\n",
    "                        \"PC2\": X_pca[:, 1],})\n",
    "fname = \"../results/arabidopsis/arabidopsis_pca_coordinates.csv\"\n",
    "pcadf.to_csv(fname, index=False)\n",
    "print(f\"PCA Done. Wrote coordinates to {fname}\")"
   ]
  },
  {
   "cell_type": "code",
   "execution_count": null,
   "metadata": {},
   "outputs": [],
   "source": [
    "cmap = plt.get_cmap(\"tab10\")\n",
    "labels = df[metafactor]\n",
    "labelenc = LabelEncoder().fit(class_names)\n",
    "class_codes = labelenc.transform(class_names).tolist()\n",
    "chex = [to_hex(cmap(i)) for i in class_codes]\n",
    "lcodes = labelenc.transform(labels)\n",
    "cols = [chex[ii] for ii in lcodes]"
   ]
  },
  {
   "cell_type": "code",
   "execution_count": null,
   "metadata": {},
   "outputs": [],
   "source": [
    "fig = plt.figure(figsize=(9, 9))\n",
    "gs = fig.add_gridspec(nrows=1, ncols=1, height_ratios=[1.])\n",
    "ax = gs.subplots()\n",
    "handles = [mpl.patches.Patch(color=chex[i], label=l)\n",
    "                             for i, l in enumerate(class_names)]\n",
    "ax.scatter(X_pca[:, 0], X_pca[:, 1], c=cols, s=10.0)\n",
    "ax.set_xlabel(\"PC 1\")\n",
    "ax.set_ylabel(\"PC 2\")\n",
    "ax.set_title(\"PCA Scatter Plot\")\n",
    "plt.subplots_adjust(right=0.9)\n",
    "fig.legend(handles=handles, loc=\"center right\",\n",
    "            borderaxespad=0.2, title=\"Tissue Type\")\n",
    "\n",
    "plt.show()"
   ]
  },
  {
   "cell_type": "code",
   "execution_count": null,
   "metadata": {},
   "outputs": [],
   "source": [
    "import seaborn as sns\n",
    "plt.figure(figsize=(15,15))\n",
    "sns.scatterplot(x=X_pca[:, 0], y=X_pca[:, 1],\n",
    "                data=df, hue='AboveBelow', legend=\"full\")\n",
    "plt.legend(loc='center left', bbox_to_anchor=(0.8, 0.5))"
   ]
  },
  {
   "cell_type": "code",
   "execution_count": null,
   "metadata": {},
   "outputs": [],
   "source": [
    "import seaborn as sns\n",
    "plt.figure(figsize=(15,15))\n",
    "sns.scatterplot(x=X_pca[:, 0], y=X_pca[:, 1],\n",
    "                data=df, hue='VegetativeRepro', legend=\"full\")\n",
    "plt.legend(loc='center left', bbox_to_anchor=(0.8, 0.5))"
   ]
  },
  {
   "cell_type": "code",
   "execution_count": null,
   "metadata": {},
   "outputs": [],
   "source": [
    "import seaborn as sns\n",
    "plt.figure(figsize=(15,15))\n",
    "sns.scatterplot(x=X_pca[:, 0], y=X_pca[:, 1],\n",
    "                data=df, hue='TissueClean', legend=\"full\")\n",
    "plt.legend(loc='center left', bbox_to_anchor=(0.8, 0.5))"
   ]
  }
 ],
 "metadata": {
  "kernelspec": {
   "display_name": "plant-tda",
   "language": "python",
   "name": "python3"
  },
  "language_info": {
   "codemirror_mode": {
    "name": "ipython",
    "version": 3
   },
   "file_extension": ".py",
   "mimetype": "text/x-python",
   "name": "python",
   "nbconvert_exporter": "python",
   "pygments_lexer": "ipython3",
   "version": "3.8.15"
  },
  "orig_nbformat": 4,
  "vscode": {
   "interpreter": {
    "hash": "94177084b516c8ab6f516f8235c7a5868d887b2e2463aba05e2f9e7ca0fda810"
   }
  }
 },
 "nbformat": 4,
 "nbformat_minor": 2
}
