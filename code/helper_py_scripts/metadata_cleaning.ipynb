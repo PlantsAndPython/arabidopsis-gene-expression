{
 "cells": [
  {
   "cell_type": "code",
   "execution_count": 31,
   "metadata": {},
   "outputs": [],
   "source": [
    "import pandas as pd"
   ]
  },
  {
   "cell_type": "code",
   "execution_count": 32,
   "metadata": {},
   "outputs": [],
   "source": [
    "metafile=\"../../data/Arabidopsis_metadata.tsv\"\n",
    "ttfile=\"../../data/all_tissue_type.csv\"\n",
    "filtered_metafile=\"../../data/metadata_UMR75.csv\"\n",
    "tissue_mapfile=\"../../data/tissue_type_map_UMR75.csv\"\n",
    "thresh=0.75"
   ]
  },
  {
   "cell_type": "code",
   "execution_count": 33,
   "metadata": {},
   "outputs": [
    {
     "data": {
      "text/html": [
       "<div>\n",
       "<style scoped>\n",
       "    .dataframe tbody tr th:only-of-type {\n",
       "        vertical-align: middle;\n",
       "    }\n",
       "\n",
       "    .dataframe tbody tr th {\n",
       "        vertical-align: top;\n",
       "    }\n",
       "\n",
       "    .dataframe thead th {\n",
       "        text-align: right;\n",
       "    }\n",
       "</style>\n",
       "<table border=\"1\" class=\"dataframe\">\n",
       "  <thead>\n",
       "    <tr style=\"text-align: right;\">\n",
       "      <th></th>\n",
       "      <th>Sample</th>\n",
       "      <th>Project</th>\n",
       "      <th>SampleName</th>\n",
       "      <th>PMID</th>\n",
       "      <th>Genotype</th>\n",
       "      <th>Ecotype</th>\n",
       "      <th>Tissue</th>\n",
       "      <th>TotalReads</th>\n",
       "      <th>UniqueMappedRate</th>\n",
       "      <th>ReleaseDate</th>\n",
       "    </tr>\n",
       "  </thead>\n",
       "  <tbody>\n",
       "    <tr>\n",
       "      <th>0</th>\n",
       "      <td>DRX007662</td>\n",
       "      <td>PRJDB2180</td>\n",
       "      <td>Arabidopsis WT-Col mRNA_seq</td>\n",
       "      <td>23934508</td>\n",
       "      <td>wild type</td>\n",
       "      <td>Col-0</td>\n",
       "      <td>Other</td>\n",
       "      <td>30664389</td>\n",
       "      <td>0.862</td>\n",
       "      <td>4/2/2014</td>\n",
       "    </tr>\n",
       "    <tr>\n",
       "      <th>1</th>\n",
       "      <td>DRX007663</td>\n",
       "      <td>PRJDB2180</td>\n",
       "      <td>Arabidopsis ibm1-4 mRNA_seq</td>\n",
       "      <td>23934508</td>\n",
       "      <td>ibm1-4</td>\n",
       "      <td>Col-0</td>\n",
       "      <td>Other</td>\n",
       "      <td>38551905</td>\n",
       "      <td>0.911</td>\n",
       "      <td>4/2/2014</td>\n",
       "    </tr>\n",
       "    <tr>\n",
       "      <th>2</th>\n",
       "      <td>DRX007664</td>\n",
       "      <td>PRJDB2180</td>\n",
       "      <td>Arabidopsis ibm2-2 mRNA_seq</td>\n",
       "      <td>23934508</td>\n",
       "      <td>ibm2-2</td>\n",
       "      <td>Col-0</td>\n",
       "      <td>Other</td>\n",
       "      <td>37223057</td>\n",
       "      <td>0.834</td>\n",
       "      <td>4/2/2014</td>\n",
       "    </tr>\n",
       "  </tbody>\n",
       "</table>\n",
       "</div>"
      ],
      "text/plain": [
       "      Sample    Project                   SampleName      PMID   Genotype  \\\n",
       "0  DRX007662  PRJDB2180  Arabidopsis WT-Col mRNA_seq  23934508  wild type   \n",
       "1  DRX007663  PRJDB2180  Arabidopsis ibm1-4 mRNA_seq  23934508     ibm1-4   \n",
       "2  DRX007664  PRJDB2180  Arabidopsis ibm2-2 mRNA_seq  23934508     ibm2-2   \n",
       "\n",
       "  Ecotype Tissue  TotalReads  UniqueMappedRate ReleaseDate  \n",
       "0   Col-0  Other    30664389             0.862    4/2/2014  \n",
       "1   Col-0  Other    38551905             0.911    4/2/2014  \n",
       "2   Col-0  Other    37223057             0.834    4/2/2014  "
      ]
     },
     "execution_count": 33,
     "metadata": {},
     "output_type": "execute_result"
    }
   ],
   "source": [
    "mdf = pd.read_csv(metafile, sep=\"\\t\")\n",
    "mdf.replace(\"/\", \"Other\", inplace=True)\n",
    "temp = mdf[\"UniqueMappedRate\"].str.rstrip(\"%\").astype(float)/100.\n",
    "mdf[\"UniqueMappedRate\"] = temp\n",
    "mdf.head(3)"
   ]
  },
  {
   "cell_type": "code",
   "execution_count": 34,
   "metadata": {},
   "outputs": [
    {
     "name": "stdout",
     "output_type": "stream",
     "text": [
      "shape before filtering: (28164, 10)\n",
      "\n",
      "shape after filtering: (19415, 10)\n"
     ]
    }
   ],
   "source": [
    "# Filter by UniqueMappedRate and write to file\n",
    "mdf_filtered = mdf[mdf[\"UniqueMappedRate\"] >= thresh]\n",
    "print(f\"shape before filtering: {mdf.shape}\\n\")\n",
    "print(f\"shape after filtering: {mdf_filtered.shape}\")"
   ]
  },
  {
   "cell_type": "code",
   "execution_count": 35,
   "metadata": {},
   "outputs": [
    {
     "name": "stdout",
     "output_type": "stream",
     "text": [
      "Number of unique tisue labels: 333\n",
      "tdf columns: Index(['Tissue', 'Count'], dtype='object')\n"
     ]
    }
   ],
   "source": [
    "# Create file for Unique tissue labels\n",
    "res = mdf[\"Tissue\"].value_counts()\n",
    "tissues = res.keys()\n",
    "counts = res.ravel()\n",
    "tdf = pd.DataFrame(list(zip(tissues, counts)), columns=[\"Tissue\", \"Count\"])\n",
    "print(f\"Number of unique tisue labels: {tdf.shape[0]}\")\n",
    "print(f\"tdf columns: {tdf.columns}\")"
   ]
  },
  {
   "cell_type": "code",
   "execution_count": 36,
   "metadata": {},
   "outputs": [
    {
     "name": "stdout",
     "output_type": "stream",
     "text": [
      "tdf_old columns: Index(['Tissue', 'Counts', 'Tissue.1', 'VegetativeRepro', 'AboveBelow',\n",
      "       'Debatable'],\n",
      "      dtype='object')\n"
     ]
    },
    {
     "data": {
      "text/html": [
       "<div>\n",
       "<style scoped>\n",
       "    .dataframe tbody tr th:only-of-type {\n",
       "        vertical-align: middle;\n",
       "    }\n",
       "\n",
       "    .dataframe tbody tr th {\n",
       "        vertical-align: top;\n",
       "    }\n",
       "\n",
       "    .dataframe thead th {\n",
       "        text-align: right;\n",
       "    }\n",
       "</style>\n",
       "<table border=\"1\" class=\"dataframe\">\n",
       "  <thead>\n",
       "    <tr style=\"text-align: right;\">\n",
       "      <th></th>\n",
       "      <th>Tissue</th>\n",
       "      <th>Counts</th>\n",
       "      <th>Tissue.1</th>\n",
       "      <th>VegetativeRepro</th>\n",
       "      <th>AboveBelow</th>\n",
       "      <th>Debatable</th>\n",
       "    </tr>\n",
       "  </thead>\n",
       "  <tbody>\n",
       "    <tr>\n",
       "      <th>0</th>\n",
       "      <td>seedlings</td>\n",
       "      <td>4402</td>\n",
       "      <td>Seedling</td>\n",
       "      <td>WholePlant</td>\n",
       "      <td>WholePlant</td>\n",
       "      <td>Unknown</td>\n",
       "    </tr>\n",
       "    <tr>\n",
       "      <th>1</th>\n",
       "      <td>leaves</td>\n",
       "      <td>3633</td>\n",
       "      <td>Leaf</td>\n",
       "      <td>Vegetative</td>\n",
       "      <td>Above</td>\n",
       "      <td>Unknown</td>\n",
       "    </tr>\n",
       "  </tbody>\n",
       "</table>\n",
       "</div>"
      ],
      "text/plain": [
       "      Tissue  Counts  Tissue.1 VegetativeRepro  AboveBelow Debatable\n",
       "0  seedlings    4402  Seedling      WholePlant  WholePlant   Unknown\n",
       "1     leaves    3633      Leaf      Vegetative       Above   Unknown"
      ]
     },
     "execution_count": 36,
     "metadata": {},
     "output_type": "execute_result"
    }
   ],
   "source": [
    "# Add VegetativeRepro, AboveBelow labels and write to file\n",
    "tdf_old = pd.read_csv(ttfile, skipinitialspace=True).fillna(\"Unknown\")\n",
    "tdf_old.replace(\"/\", \"Other\", inplace=True)\n",
    "print(f\"tdf_old columns: {tdf_old.columns}\")\n",
    "tdf_old.head(2)"
   ]
  },
  {
   "cell_type": "code",
   "execution_count": 37,
   "metadata": {},
   "outputs": [
    {
     "name": "stdout",
     "output_type": "stream",
     "text": [
      "tdf_new columns Index(['Tissue', 'Count', 'Tissue.1', 'VegetativeRepro', 'AboveBelow'], dtype='object')\n"
     ]
    }
   ],
   "source": [
    "tdf_new = tdf.merge(tdf_old, on=\"Tissue\")\n",
    "tdf_new = tdf_new.drop([\"Counts\", \"Debatable\"], axis=1)\n",
    "print(f\"tdf_new columns {tdf_new.columns}\")\n",
    "tdf_new.head(2)\n",
    "\n",
    "# tdf_new = tdf_new.rename(columns={\"Tissue_Corrected\":\"Tissue\"})\n",
    "tdf_new.to_csv(tissue_mapfile, index=False)"
   ]
  },
  {
   "cell_type": "code",
   "execution_count": 38,
   "metadata": {},
   "outputs": [
    {
     "name": "stdout",
     "output_type": "stream",
     "text": [
      "(19415, 13)\n",
      "Index(['SampleID', 'Project', 'SampleName', 'PMID', 'Genotype', 'Ecotype',\n",
      "       'Tissue', 'TotalReads', 'UniqueMappedRate', 'ReleaseDate', 'Tissue.1',\n",
      "       'VegetativeRepro', 'AboveBelow'],\n",
      "      dtype='object')\n"
     ]
    }
   ],
   "source": [
    "# Left Join mdf_filtered and tdf_new on Tissue and write to file\n",
    "mdf_new = mdf_filtered.merge(tdf_new, how=\"left\",\n",
    "                                on=\"Tissue\").drop([\"Count\"], axis=1)\n",
    "mdf_new = mdf_new.rename(columns={\"Sample\":\"SampleID\"})\n",
    "print(mdf_new.shape)\n",
    "print(mdf_new.columns)"
   ]
  },
  {
   "cell_type": "code",
   "execution_count": 39,
   "metadata": {},
   "outputs": [
    {
     "name": "stdout",
     "output_type": "stream",
     "text": [
      "AboveBelow Classes: Above         8855\n",
      "WholePlant    6692\n",
      "Below         2313\n",
      "Unknown       1058\n",
      "Seed           497\n",
      "Name: AboveBelow, dtype: int64\n",
      "VegetativeRepro Classes:        Vegetative      8018\n",
      "WholePlant      6692\n",
      "Root            2062\n",
      "Reproductive    1365\n",
      "Unknown         1027\n",
      "Hypotocyl        251\n",
      "Name: VegetativeRepro, dtype: int64\n"
     ]
    }
   ],
   "source": [
    "# mdf_new[\"VegetativeRepro\"].replace(to_replace=\"Root\",\n",
    "#                                     value=\"Vegetative\", inplace=True)\n",
    "# mdf_new[\"VegetativeRepro\"].replace(to_replace=\"Hypotocyl\",\n",
    "#                                     value=\"Vegetative\", inplace=True)\n",
    "\n",
    "# mdf_new[\"AboveBelow\"].replace(to_replace=\"Seed\",\n",
    "#                                     value=\"WholePlant\", inplace=True)\n",
    "\n",
    "print(f'AboveBelow Classes: {mdf_new[\"AboveBelow\"].value_counts()}')\n",
    "print(f'VegetativeRepro Classes:\\\n",
    "        {mdf_new[\"VegetativeRepro\"].value_counts()}')\n",
    "\n",
    "mdf_new.to_csv(filtered_metafile, sep=\",\", index=False)"
   ]
  }
 ],
 "metadata": {
  "kernelspec": {
   "display_name": "plant-tda",
   "language": "python",
   "name": "python3"
  },
  "language_info": {
   "codemirror_mode": {
    "name": "ipython",
    "version": 3
   },
   "file_extension": ".py",
   "mimetype": "text/x-python",
   "name": "python",
   "nbconvert_exporter": "python",
   "pygments_lexer": "ipython3",
   "version": "3.8.15"
  },
  "orig_nbformat": 4,
  "vscode": {
   "interpreter": {
    "hash": "94177084b516c8ab6f516f8235c7a5868d887b2e2463aba05e2f9e7ca0fda810"
   }
  }
 },
 "nbformat": 4,
 "nbformat_minor": 2
}
