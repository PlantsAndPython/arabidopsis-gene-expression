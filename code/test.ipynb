{
 "cells": [
  {
   "cell_type": "code",
   "execution_count": 1,
   "metadata": {},
   "outputs": [],
   "source": [
    "import pandas as pd"
   ]
  },
  {
   "cell_type": "code",
   "execution_count": 2,
   "metadata": {},
   "outputs": [
    {
     "name": "stdout",
     "output_type": "stream",
     "text": [
      "     SampleID        family  tissue   stress AboveBelow VegetativeRepro  \\\n",
      "0  SRR1598911  Amaranthacea  flower  healthy      Above    Reproductive   \n",
      "1  SRR1598912  Amaranthacea    leaf  healthy      Above      Vegetative   \n",
      "2  SRR1598913  Amaranthacea    root  healthy      Below      Vegetative   \n",
      "\n",
      "   AT1G01020  AT1G01040  AT1G01060  AT1G01090  ...  AT5G67220  AT5G67270  \\\n",
      "0  10.637346  11.478871  10.732734  55.891862  ...  11.513462  18.716154   \n",
      "1   2.936071   3.835814   4.383961  31.167773  ...  18.289706  35.480156   \n",
      "2   7.392834   5.339042  12.098516  47.056837  ...  13.308414  54.701747   \n",
      "\n",
      "    AT5G67320  AT5G67370  AT5G67390  AT5G67530  AT5G67550  AT5G67570  \\\n",
      "0  196.483225  29.421445  37.851169   5.871045   4.132813   4.751289   \n",
      "1   59.862219  32.420857  55.739565   2.764059   5.731131   5.946588   \n",
      "2   77.902594   1.195359  13.310283   2.858254   9.005569   1.934694   \n",
      "\n",
      "    AT5G67590  AT5G67620  \n",
      "0   98.171942   3.092170  \n",
      "1  186.146673   1.149794  \n",
      "2  217.819931   7.862892  \n",
      "\n",
      "[3 rows x 6334 columns]\n",
      "['Flower' 'Leaf' 'Root' 'Shoot' 'Other' 'Seed' 'Seedling'\n",
      " 'Reproductive- Other']\n"
     ]
    }
   ],
   "source": [
    "df = pd.read_csv(\"../data/Angiosperm_data_clean.csv\")\n",
    "print(df.head(3))\n",
    "class_names: ['Other', 'Root', 'WholePlant', 'Seedling', 'Seed', 'Shoot', 'Leaf', 'Flower', 'Inflorescence', 'Stigma', 'Internode', 'Hypotocyl', 'Cotyledon', 'Vasculature', 'Petal', 'Anther', 'Carpel', 'Root cell', 'Sepal', 'Petiole', 'Stamen', 'Pistil', 'Reproductive- Other']\n",
    "\n",
    "replacements = {\n",
    "    'flower': 'Flower',\n",
    "    'leaf': 'Leaf',\n",
    "    'root': 'Root',\n",
    "    'stem': 'Shoot',\n",
    "    'other': 'Other',\n",
    "    'seed': 'Seed',\n",
    "    'seedling': 'Seedling',\n",
    "    'fruit': 'Reproductive- Other'\n",
    "    }\n",
    "\n",
    "df['tissue'] = df['tissue'].replace(replacements)\n",
    "df = df.rename(columns={'tissue': 'TissueClean'})\n",
    "print(df['TissueClean'].unique())\n",
    "df.to_csv(\"../data/Angiosperm_data_clean_2.csv\", index=False)"
   ]
  },
  {
   "cell_type": "code",
   "execution_count": null,
   "metadata": {},
   "outputs": [],
   "source": [
    "df1 = pd.read_csv(\"../data/Angiosperm_data_clean.csv\")\n",
    "df1['tissue'].unique()"
   ]
  },
  {
   "cell_type": "code",
   "execution_count": null,
   "metadata": {},
   "outputs": [],
   "source": [
    "df2 = pd.read_csv(\"../data/Angiosperm_data_clean_2.csv\")\n",
    "df2['TissueClean'].unique()"
   ]
  },
  {
   "cell_type": "code",
   "execution_count": null,
   "metadata": {},
   "outputs": [],
   "source": [
    "from sklearn.preprocessing import LabelEncoder\n",
    "class_names = [\"Above\", \"Below\", \"Whole Plant\", \"Other\"]\n",
    "labelenc = LabelEncoder().fit(class_names)\n",
    "labelenc.transform(class_names).tolist()"
   ]
  },
  {
   "cell_type": "code",
   "execution_count": null,
   "metadata": {},
   "outputs": [],
   "source": [
    "angio_rnafile = \"../data/backup/Angiosperm_RNAseq_clean.csv\"\n",
    "angio_metafile = \"../data/backup/Angiosperm_metadata_clean.csv\"\n",
    "\n",
    "angiorna = pd.read_csv(angio_rnafile)\n",
    "angiorna.head(3)"
   ]
  },
  {
   "cell_type": "code",
   "execution_count": null,
   "metadata": {},
   "outputs": [],
   "source": [
    "angiometa = pd.read_csv(angio_metafile)\n",
    "angiometa.head(3)"
   ]
  },
  {
   "cell_type": "code",
   "execution_count": null,
   "metadata": {},
   "outputs": [],
   "source": [
    "angiometa[\"AboveBelow\"].value_counts()"
   ]
  },
  {
   "cell_type": "code",
   "execution_count": null,
   "metadata": {},
   "outputs": [],
   "source": [
    "print(angiorna.shape, angiometa.shape)\n",
    "angiodata = pd.merge(angiometa, angiorna, how=\"left\", on=\"SampleID\")\n",
    "print(angiodata.shape)\n",
    "angiodata.head(3)"
   ]
  },
  {
   "cell_type": "code",
   "execution_count": null,
   "metadata": {},
   "outputs": [],
   "source": [
    "angiodata.to_csv(\"../data/Angiosperm_data_clean.csv\", index=False)"
   ]
  }
 ],
 "metadata": {
  "kernelspec": {
   "display_name": "plant-tda",
   "language": "python",
   "name": "python3"
  },
  "language_info": {
   "codemirror_mode": {
    "name": "ipython",
    "version": 3
   },
   "file_extension": ".py",
   "mimetype": "text/x-python",
   "name": "python",
   "nbconvert_exporter": "python",
   "pygments_lexer": "ipython3",
   "version": "3.8.15"
  }
 },
 "nbformat": 4,
 "nbformat_minor": 2
}
